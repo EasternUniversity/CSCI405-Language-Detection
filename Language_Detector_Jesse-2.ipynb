{
 "cells": [
  {
   "cell_type": "markdown",
   "metadata": {},
   "source": [
    "# Understanding the Data\n",
    "The dataset acquired from [Kaggle](https://www.kaggle.com/code/martinkk5575/language-detection/data) contains words from several different languages. The noise contained in the dataset are duplicate words. To reduce this noise, the words will be broken down into single and double characters, then rated based on how often they show up in that respective language."
   ]
  },
  {
   "cell_type": "code",
   "execution_count": 1,
   "metadata": {},
   "outputs": [
    {
     "data": {
      "text/html": [
       "<div>\n",
       "<style scoped>\n",
       "    .dataframe tbody tr th:only-of-type {\n",
       "        vertical-align: middle;\n",
       "    }\n",
       "\n",
       "    .dataframe tbody tr th {\n",
       "        vertical-align: top;\n",
       "    }\n",
       "\n",
       "    .dataframe thead th {\n",
       "        text-align: right;\n",
       "    }\n",
       "</style>\n",
       "<table border=\"1\" class=\"dataframe\">\n",
       "  <thead>\n",
       "    <tr style=\"text-align: right;\">\n",
       "      <th></th>\n",
       "      <th>Text</th>\n",
       "      <th>language</th>\n",
       "    </tr>\n",
       "  </thead>\n",
       "  <tbody>\n",
       "    <tr>\n",
       "      <th>0</th>\n",
       "      <td>klement gottwaldi surnukeha palsameeriti ning ...</td>\n",
       "      <td>Estonian</td>\n",
       "    </tr>\n",
       "    <tr>\n",
       "      <th>1</th>\n",
       "      <td>sebes joseph pereira thomas  på eng the jesuit...</td>\n",
       "      <td>Swedish</td>\n",
       "    </tr>\n",
       "    <tr>\n",
       "      <th>2</th>\n",
       "      <td>ถนนเจริญกรุง อักษรโรมัน thanon charoen krung เ...</td>\n",
       "      <td>Thai</td>\n",
       "    </tr>\n",
       "    <tr>\n",
       "      <th>3</th>\n",
       "      <td>விசாகப்பட்டினம் தமிழ்ச்சங்கத்தை இந்துப் பத்திர...</td>\n",
       "      <td>Tamil</td>\n",
       "    </tr>\n",
       "    <tr>\n",
       "      <th>4</th>\n",
       "      <td>de spons behoort tot het geslacht haliclona en...</td>\n",
       "      <td>Dutch</td>\n",
       "    </tr>\n",
       "    <tr>\n",
       "      <th>...</th>\n",
       "      <td>...</td>\n",
       "      <td>...</td>\n",
       "    </tr>\n",
       "    <tr>\n",
       "      <th>21995</th>\n",
       "      <td>hors du terrain les années  et  sont des année...</td>\n",
       "      <td>French</td>\n",
       "    </tr>\n",
       "    <tr>\n",
       "      <th>21996</th>\n",
       "      <td>ใน พศ  หลักจากที่เสด็จประพาสแหลมมลายู ชวา อินเ...</td>\n",
       "      <td>Thai</td>\n",
       "    </tr>\n",
       "    <tr>\n",
       "      <th>21997</th>\n",
       "      <td>con motivo de la celebración del septuagésimoq...</td>\n",
       "      <td>Spanish</td>\n",
       "    </tr>\n",
       "    <tr>\n",
       "      <th>21998</th>\n",
       "      <td>年月，當時還只有歲的她在美國出道，以mai-k名義推出首張英文《baby i like》，由...</td>\n",
       "      <td>Chinese</td>\n",
       "    </tr>\n",
       "    <tr>\n",
       "      <th>21999</th>\n",
       "      <td>aprilie sonda spațială messenger a nasa și-a ...</td>\n",
       "      <td>Romanian</td>\n",
       "    </tr>\n",
       "  </tbody>\n",
       "</table>\n",
       "<p>22000 rows × 2 columns</p>\n",
       "</div>"
      ],
      "text/plain": [
       "                                                    Text  language\n",
       "0      klement gottwaldi surnukeha palsameeriti ning ...  Estonian\n",
       "1      sebes joseph pereira thomas  på eng the jesuit...   Swedish\n",
       "2      ถนนเจริญกรุง อักษรโรมัน thanon charoen krung เ...      Thai\n",
       "3      விசாகப்பட்டினம் தமிழ்ச்சங்கத்தை இந்துப் பத்திர...     Tamil\n",
       "4      de spons behoort tot het geslacht haliclona en...     Dutch\n",
       "...                                                  ...       ...\n",
       "21995  hors du terrain les années  et  sont des année...    French\n",
       "21996  ใน พศ  หลักจากที่เสด็จประพาสแหลมมลายู ชวา อินเ...      Thai\n",
       "21997  con motivo de la celebración del septuagésimoq...   Spanish\n",
       "21998  年月，當時還只有歲的她在美國出道，以mai-k名義推出首張英文《baby i like》，由...   Chinese\n",
       "21999   aprilie sonda spațială messenger a nasa și-a ...  Romanian\n",
       "\n",
       "[22000 rows x 2 columns]"
      ]
     },
     "execution_count": 1,
     "metadata": {},
     "output_type": "execute_result"
    }
   ],
   "source": [
    "import pandas as pd\n",
    "import numpy as np\n",
    "\n",
    "# Import data*\n",
    "fileName = \"dataset.csv\"\n",
    "data = pd.read_csv(fileName)\n",
    "\n",
    "data"
   ]
  },
  {
   "cell_type": "markdown",
   "metadata": {},
   "source": [
    "# Splitting the Data\n"
   ]
  },
  {
   "cell_type": "code",
   "execution_count": 2,
   "metadata": {},
   "outputs": [],
   "source": [
    "from sklearn.model_selection import train_test_split\n",
    "\n",
    "X=data['Text'] # Feature matrix\n",
    "y=data['language'] # Label\n",
    "\n",
    "# Split the data into training and testing sets\n",
    "X_train, X_test, y_train, y_test = train_test_split(X, y, test_size=0.2, random_state=42)\n",
    "\n",
    "# Save the languages into a DataFrame that we aren't modifying\n",
    "languages = set(y)"
   ]
  },
  {
   "cell_type": "code",
   "execution_count": 3,
   "metadata": {},
   "outputs": [
    {
     "name": "stdout",
     "output_type": "stream",
     "text": [
      "<class 'pandas.core.frame.DataFrame'>\n",
      "True\n"
     ]
    }
   ],
   "source": [
    "import pandas as pd\n",
    "cow = pd.DataFrame()\n",
    "print(type(cow))\n",
    "print(type(cow)==pd.DataFrame)"
   ]
  },
  {
   "cell_type": "markdown",
   "metadata": {},
   "source": [
    "# Creating Functions to Feature Engineer Our Data"
   ]
  },
  {
   "cell_type": "code",
   "execution_count": 4,
   "metadata": {},
   "outputs": [],
   "source": [
    "def test_function(dataframe, chars):\n",
    "    new_arr = np.zeros((1, len(chars)))\n",
    "    j=0\n",
    "    for char in chars:\n",
    "        count = 0.0\n",
    "        for letter in dataframe:\n",
    "            if letter == char:\n",
    "                count = count + 1.0\n",
    "            fraction = count/len(dataframe)\n",
    "        new_arr[0,j] = fraction\n",
    "        j = j+1\n",
    "    data_frame = pd.DataFrame(new_arr, columns = chars)\n",
    "    return data_frame\n",
    "\n",
    "chars_2 = ['e', 't', 'ä', 'ö', 'a', 'n', 'ก', 'ข', 'ค', 'ฅ', 'ฆ', 'ง', 'அ', 'ஆ', 'இ', 'ஈ', 'உ', 'ஊ', \n",
    "         'o', 'r', 'ー', '日', 'あ', 'ぁ', 'ぇ', 'ç', 'ğ', 'ı', 'İ', 'î', 'ö', 'ş', 'i', 'u', 'چ', 'ح', 'خ', 'ش',\n",
    "         'â', 'ù', 'è', 's', 'î', 'ë', '胡', '童', '。', 'ᄁ', '알', '에', 'ᄃ', 'ऺ', 'त', 'ऻ', 'क', 'á', 'é', 'í', \n",
    "         'ó', 'ږ','ک', 'ﻑ', 'ی', 'م', 'ث', 'ţ', 'ă', 'ș', 'ş', 'б', 'в', 'г', 'д', 'ص', 'ف', 'ج', 'ر']"
   ]
  },
  {
   "cell_type": "code",
   "execution_count": 6,
   "metadata": {},
   "outputs": [],
   "source": [
    "def feature_engineering_trial(dataframe, chars):\n",
    "    if (type(type(dataframe)==str)):\n",
    "        new_arr = np.zeros((1, len(chars)))\n",
    "        j=0\n",
    "        for char in chars:\n",
    "            count = 0.0\n",
    "            for letter in dataframe:\n",
    "                if letter == char:\n",
    "                    count = count + 1.0\n",
    "                fraction = count/len(dataframe)\n",
    "            new_arr[0,j] = fraction\n",
    "            j = j+1\n",
    "        data_frame = pd.DataFrame(new_arr, columns = chars)\n",
    "        return data_frame\n",
    "        \n",
    "    if (type(type(dataframe)==pd.DataFrame)):\n",
    "        arr = dataframe.to_numpy()\n",
    "        new_arr = np.zeros((len(arr), len(chars)))\n",
    "        i=0\n",
    "        j=0\n",
    "        for text in arr:\n",
    "            sentence = text\n",
    "            count = 0.0\n",
    "            j=0\n",
    "            for char in chars:\n",
    "                count = 0.0\n",
    "                for letter in sentence:\n",
    "                    if letter == char:\n",
    "                        count = count + 1.0\n",
    "                    fraction = count/len(sentence)\n",
    "                new_arr[i,j] = fraction\n",
    "                j = j + 1\n",
    "        \n",
    "            i = i + 1\n",
    "        data_frame = pd.DataFrame(new_arr, columns = chars)      \n",
    "        return data_frame"
   ]
  },
  {
   "cell_type": "code",
   "execution_count": 7,
   "metadata": {},
   "outputs": [],
   "source": [
    "def feature_engineering(dataframe, chars):\n",
    "    arr = dataframe.to_numpy()\n",
    "    new_arr = np.zeros((len(arr), len(chars)))\n",
    "    i=0\n",
    "    j=0\n",
    "    for text in arr:\n",
    "        sentence = text\n",
    "        count = 0.0\n",
    "        j=0\n",
    "        for char in chars:\n",
    "            count = 0.0\n",
    "            for letter in sentence:\n",
    "                if letter == char:\n",
    "                    count = count + 1.0\n",
    "                fraction = count/len(sentence)\n",
    "            new_arr[i,j] = fraction\n",
    "            j = j + 1\n",
    "        \n",
    "        i = i + 1\n",
    "    data_frame = pd.DataFrame(new_arr, columns = chars)      \n",
    "    return data_frame"
   ]
  },
  {
   "cell_type": "code",
   "execution_count": 8,
   "metadata": {},
   "outputs": [],
   "source": [
    "def feature_engineering_2(dataframe, chars):\n",
    "    arr = dataframe.to_numpy()\n",
    "    new_arr = np.zeros((len(arr), len(chars)))\n",
    "    i=0\n",
    "    j=0\n",
    "    for text in arr:\n",
    "        sentence = text\n",
    "        count = 0.0\n",
    "        j = 0\n",
    "        for list in chars:\n",
    "            count = 0.0\n",
    "            for char in list:\n",
    "                for letter in sentence:\n",
    "                    if letter == char:\n",
    "                        count = count + 1.0\n",
    "            fraction = count/len(sentence)\n",
    "            new_arr[i,j] = fraction\n",
    "            j = j+1\n",
    "        i = i+1\n",
    "    \n",
    "    names = ['english', 'estonian', 'swedish', 'thai', 'tamil', 'dutch', 'japanese', 'turkish', 'latin', 'urdu',\n",
    "             'indonesian', 'portuguese', 'french', 'chinese', 'korean', 'hindi', 'spanish', 'pushto', 'persian',\n",
    "             'romanian', 'russian', 'arabic']\n",
    "    \n",
    "    data_frame = pd.DataFrame(new_arr, columns = names)\n",
    "    return data_frame\n",
    "                "
   ]
  },
  {
   "cell_type": "markdown",
   "metadata": {},
   "source": [
    "# Testing Our Functions"
   ]
  },
  {
   "cell_type": "code",
   "execution_count": 9,
   "metadata": {},
   "outputs": [
    {
     "data": {
      "text/html": [
       "<div>\n",
       "<style scoped>\n",
       "    .dataframe tbody tr th:only-of-type {\n",
       "        vertical-align: middle;\n",
       "    }\n",
       "\n",
       "    .dataframe tbody tr th {\n",
       "        vertical-align: top;\n",
       "    }\n",
       "\n",
       "    .dataframe thead th {\n",
       "        text-align: right;\n",
       "    }\n",
       "</style>\n",
       "<table border=\"1\" class=\"dataframe\">\n",
       "  <thead>\n",
       "    <tr style=\"text-align: right;\">\n",
       "      <th></th>\n",
       "      <th>english</th>\n",
       "      <th>estonian</th>\n",
       "      <th>swedish</th>\n",
       "      <th>thai</th>\n",
       "      <th>tamil</th>\n",
       "      <th>dutch</th>\n",
       "      <th>japanese</th>\n",
       "      <th>turkish</th>\n",
       "      <th>latin</th>\n",
       "      <th>urdu</th>\n",
       "      <th>...</th>\n",
       "      <th>french</th>\n",
       "      <th>chinese</th>\n",
       "      <th>korean</th>\n",
       "      <th>hindi</th>\n",
       "      <th>spanish</th>\n",
       "      <th>pushto</th>\n",
       "      <th>persian</th>\n",
       "      <th>romanian</th>\n",
       "      <th>russian</th>\n",
       "      <th>arabic</th>\n",
       "    </tr>\n",
       "  </thead>\n",
       "  <tbody>\n",
       "    <tr>\n",
       "      <th>0</th>\n",
       "      <td>0.000000</td>\n",
       "      <td>0.000000</td>\n",
       "      <td>0.000000</td>\n",
       "      <td>0.118919</td>\n",
       "      <td>0.000000</td>\n",
       "      <td>0.000000</td>\n",
       "      <td>0.0</td>\n",
       "      <td>0.000000</td>\n",
       "      <td>0.000000</td>\n",
       "      <td>0.0</td>\n",
       "      <td>...</td>\n",
       "      <td>0.0</td>\n",
       "      <td>0.0</td>\n",
       "      <td>0.0</td>\n",
       "      <td>0.0</td>\n",
       "      <td>0.000000</td>\n",
       "      <td>0.0</td>\n",
       "      <td>0.0</td>\n",
       "      <td>0.0</td>\n",
       "      <td>0.000000</td>\n",
       "      <td>0.0</td>\n",
       "    </tr>\n",
       "    <tr>\n",
       "      <th>1</th>\n",
       "      <td>0.000000</td>\n",
       "      <td>0.000000</td>\n",
       "      <td>0.000000</td>\n",
       "      <td>0.157277</td>\n",
       "      <td>0.000000</td>\n",
       "      <td>0.000000</td>\n",
       "      <td>0.0</td>\n",
       "      <td>0.000000</td>\n",
       "      <td>0.000000</td>\n",
       "      <td>0.0</td>\n",
       "      <td>...</td>\n",
       "      <td>0.0</td>\n",
       "      <td>0.0</td>\n",
       "      <td>0.0</td>\n",
       "      <td>0.0</td>\n",
       "      <td>0.000000</td>\n",
       "      <td>0.0</td>\n",
       "      <td>0.0</td>\n",
       "      <td>0.0</td>\n",
       "      <td>0.000000</td>\n",
       "      <td>0.0</td>\n",
       "    </tr>\n",
       "    <tr>\n",
       "      <th>2</th>\n",
       "      <td>0.523622</td>\n",
       "      <td>0.263780</td>\n",
       "      <td>0.523622</td>\n",
       "      <td>0.000000</td>\n",
       "      <td>0.000000</td>\n",
       "      <td>0.523622</td>\n",
       "      <td>0.0</td>\n",
       "      <td>0.192913</td>\n",
       "      <td>0.598425</td>\n",
       "      <td>0.0</td>\n",
       "      <td>...</td>\n",
       "      <td>0.0</td>\n",
       "      <td>0.0</td>\n",
       "      <td>0.0</td>\n",
       "      <td>0.0</td>\n",
       "      <td>0.208661</td>\n",
       "      <td>0.0</td>\n",
       "      <td>0.0</td>\n",
       "      <td>0.0</td>\n",
       "      <td>0.000000</td>\n",
       "      <td>0.0</td>\n",
       "    </tr>\n",
       "    <tr>\n",
       "      <th>3</th>\n",
       "      <td>0.038062</td>\n",
       "      <td>0.013841</td>\n",
       "      <td>0.031142</td>\n",
       "      <td>0.000000</td>\n",
       "      <td>0.034602</td>\n",
       "      <td>0.038062</td>\n",
       "      <td>0.0</td>\n",
       "      <td>0.006920</td>\n",
       "      <td>0.031142</td>\n",
       "      <td>0.0</td>\n",
       "      <td>...</td>\n",
       "      <td>0.0</td>\n",
       "      <td>0.0</td>\n",
       "      <td>0.0</td>\n",
       "      <td>0.0</td>\n",
       "      <td>0.013841</td>\n",
       "      <td>0.0</td>\n",
       "      <td>0.0</td>\n",
       "      <td>0.0</td>\n",
       "      <td>0.000000</td>\n",
       "      <td>0.0</td>\n",
       "    </tr>\n",
       "    <tr>\n",
       "      <th>4</th>\n",
       "      <td>0.000000</td>\n",
       "      <td>0.000000</td>\n",
       "      <td>0.000000</td>\n",
       "      <td>0.000000</td>\n",
       "      <td>0.000000</td>\n",
       "      <td>0.000000</td>\n",
       "      <td>0.0</td>\n",
       "      <td>0.000000</td>\n",
       "      <td>0.000000</td>\n",
       "      <td>0.0</td>\n",
       "      <td>...</td>\n",
       "      <td>0.0</td>\n",
       "      <td>0.0</td>\n",
       "      <td>0.0</td>\n",
       "      <td>0.0</td>\n",
       "      <td>0.000000</td>\n",
       "      <td>0.0</td>\n",
       "      <td>0.0</td>\n",
       "      <td>0.0</td>\n",
       "      <td>0.264471</td>\n",
       "      <td>0.0</td>\n",
       "    </tr>\n",
       "  </tbody>\n",
       "</table>\n",
       "<p>5 rows × 22 columns</p>\n",
       "</div>"
      ],
      "text/plain": [
       "    english  estonian   swedish      thai     tamil     dutch  japanese  \\\n",
       "0  0.000000  0.000000  0.000000  0.118919  0.000000  0.000000       0.0   \n",
       "1  0.000000  0.000000  0.000000  0.157277  0.000000  0.000000       0.0   \n",
       "2  0.523622  0.263780  0.523622  0.000000  0.000000  0.523622       0.0   \n",
       "3  0.038062  0.013841  0.031142  0.000000  0.034602  0.038062       0.0   \n",
       "4  0.000000  0.000000  0.000000  0.000000  0.000000  0.000000       0.0   \n",
       "\n",
       "    turkish     latin  urdu  ...  french  chinese  korean  hindi   spanish  \\\n",
       "0  0.000000  0.000000   0.0  ...     0.0      0.0     0.0    0.0  0.000000   \n",
       "1  0.000000  0.000000   0.0  ...     0.0      0.0     0.0    0.0  0.000000   \n",
       "2  0.192913  0.598425   0.0  ...     0.0      0.0     0.0    0.0  0.208661   \n",
       "3  0.006920  0.031142   0.0  ...     0.0      0.0     0.0    0.0  0.013841   \n",
       "4  0.000000  0.000000   0.0  ...     0.0      0.0     0.0    0.0  0.000000   \n",
       "\n",
       "   pushto  persian  romanian   russian  arabic  \n",
       "0     0.0      0.0       0.0  0.000000     0.0  \n",
       "1     0.0      0.0       0.0  0.000000     0.0  \n",
       "2     0.0      0.0       0.0  0.000000     0.0  \n",
       "3     0.0      0.0       0.0  0.000000     0.0  \n",
       "4     0.0      0.0       0.0  0.264471     0.0  \n",
       "\n",
       "[5 rows x 22 columns]"
      ]
     },
     "execution_count": 9,
     "metadata": {},
     "output_type": "execute_result"
    }
   ],
   "source": [
    "new_chars = [['e', 't', 'a', 'i', 'o', 'n', 's', 'h', 'r'], ['a', 'e', 'i', 'ä', 'ö', 'õ', 'š', 'ü', 'ž'], \n",
    "             ['å', 'ä', 'ö', 'a', 'e', 't', 'n', 'r', 's', 'i'], ['ก', 'ข', 'ค', 'ฅ', 'ฆ', 'ง', 'จ', 'ฉ', 'ช', 'ฌ'],\n",
    "             ['அ', 'ஆ', 'இ', 'ஈ', 'உ', 'ஊ', 'எ', 'ஏ', 'ஐ', 'ஒ'], ['a', 'e', 'i', 'o', 'h', 'n', 'r', 't', 's'], \n",
    "             ['㍿', '㍐', 'ヿ', 'ヾ', 'ヽ', 'ー', '・', 'ヺ', 'ヹ', 'ヸ'], ['ç', 'ğ', 'ı', 'İ', 'î', 'ö', 'ş', 'ü', 'a', 'e'],\n",
    "             ['a', 'e', 'i', 'n', 'r', 's', 't', 'u', 'm', 'd'], ['چ', 'ح', 'خ', 'ش', 'ن', 'ٹ', 'ن', 'ث', 'گ', 'ج'],\n",
    "             ['a', 'A', 'i', 'n', 'r', 'm', 's', 't', 'u', 'g'], ['â', 'ê', 'ô', 'ã', 'õ', 'à', 'è', 'ì', 'ò', 'ù'],\n",
    "             ['ô', 'û', 'à', 'è', 'ì', 'ò', 'ù', 'ë', 'ï', 'ü'], ['主', '人', '公', '阿', '米', '尔', '一', '样', '都', '是'],\n",
    "             ['응','의','이','익','인','일','임','입','잉','잎'], ['ः', 'ऺ', 'ऻ', 'ा', 'ि', 'ी', 'ॎ', 'ई', 'उ', 'ऊ'], \n",
    "             ['á', 'é', 'í', 'ó', 'ú', 'ñ', 'ü', 't', 'e', 'i'], ['ت', 'ا', 'ې', 'ښ', 'ن', 'ر', 'ع', 'ط', 'ړ', 'س'],\n",
    "             ['ق', ' غ', 'ج', 'ت', ' ن ', 'ی', 'ل ', 'ظ', 'ص', 'ز'], ['ă', 'â', 'î', 'ș', 'ş', 'ț', 'ţ'], \n",
    "             ['б', 'в', 'г', 'д', 'ж', 'з', 'к', 'л', 'м', 'н'], ['م', 'ص', 'ظ', 'و', 'ر', 'م', 'ي', 'ج', 'ز', 'ق']]\n",
    "\n",
    "panda = X_train.head()\n",
    "some_data = feature_engineering_2(panda, new_chars)\n",
    "some_data\n",
    "    "
   ]
  },
  {
   "cell_type": "markdown",
   "metadata": {},
   "source": [
    "# 1st Model: RandomForrestClassifier\n",
    "\n",
    "This model is trained on a list of 44 characters and the first 3000 rows of our X_train data. Our performance metric is accuracy score."
   ]
  },
  {
   "cell_type": "code",
   "execution_count": 62,
   "metadata": {},
   "outputs": [],
   "source": [
    "X_train_ready = feature_engineering(X_train.head(9000), chars_2)\n",
    "\n",
    "y_train_ready = y_train.head(9000)\n",
    "\n",
    "X_test_ready = feature_engineering(X_test, chars_2)"
   ]
  },
  {
   "cell_type": "code",
   "execution_count": 11,
   "metadata": {},
   "outputs": [
    {
     "name": "stdout",
     "output_type": "stream",
     "text": [
      "Accuracy=0.8822727272727273\n"
     ]
    }
   ],
   "source": [
    "#First Model Trained\n",
    "#characters for first model\n",
    "chars_2 = ['e', 't', 'ä', 'ö', 'a', 'n', 'ก', 'ข', 'ค', 'ฅ', 'ฆ', 'ง', 'அ', 'ஆ', 'இ', 'ஈ', 'உ', 'ஊ', \n",
    "         'o', 'r', 'ー', '日', 'あ', 'ぁ', 'ぇ', 'ç', 'ğ', 'ı', 'İ', 'î', 'ö', 'ş', 'i', 'u', 'چ', 'ح', 'خ', 'ش',\n",
    "         'â', 'ù', 'è', 's', 'î', 'ë', '胡', '童', '。', 'ᄁ', '알', '에', 'ᄃ', 'ऺ', 'त', 'ऻ', 'क', 'á', 'é', 'í', \n",
    "         'ó', 'ږ','ک', 'ﻑ', 'ی', 'م', 'ث', 'ţ', 'ă', 'ș', 'ş', 'б', 'в', 'г', 'д', 'ص', 'ف', 'ج', 'ر']\n",
    "\n",
    "X_train_2 = X_train.head(3000)\n",
    "model_one = feature_engineering(X_train_2, chars_2)\n",
    "model_one\n",
    "\n",
    "y_train_one = y_train.head(3000)\n",
    "\n",
    "from sklearn.ensemble import RandomForestClassifier\n",
    "\n",
    "# Instantiate a random forest clf model\n",
    "rnd_clf = RandomForestClassifier(n_estimators=500, max_leaf_nodes=16, random_state=42)\n",
    "\n",
    "# fit our model with our training data\n",
    "rnd_clf.fit(model_one, y_train_one)\n",
    "\n",
    "X_test_1 = feature_engineering(X_test, chars_2)\n",
    "\n",
    "# save our predictions\n",
    "y_preds = rnd_clf.predict(X_test_1)\n",
    "\n",
    "from sklearn.metrics import accuracy_score\n",
    "\n",
    "# instantiate accuracy score metric\n",
    "acc_score = accuracy_score(y_test, y_preds)\n",
    "\n",
    "# showcase score\n",
    "print('Accuracy=%s' % (acc_score))\n",
    "\n",
    "import pickle #ask about pickle\n",
    "\n",
    "saved_model = pickle.dumps(rnd_clf)\n",
    "\n",
    "rdf_from_pickle = pickle.loads(saved_model)"
   ]
  },
  {
   "cell_type": "markdown",
   "metadata": {},
   "source": [
    "Same model, but training on the whole X_train dataset"
   ]
  },
  {
   "cell_type": "code",
   "execution_count": 12,
   "metadata": {},
   "outputs": [
    {
     "name": "stdout",
     "output_type": "stream",
     "text": [
      "Accuracy=0.8809090909090909\n"
     ]
    }
   ],
   "source": [
    "#First Model Trained\n",
    "#characters for first model\n",
    "chars_2 = ['e', 't', 'ä', 'ö', 'a', 'n', 'ก', 'ข', 'ค', 'ฅ', 'ฆ', 'ง', 'அ', 'ஆ', 'இ', 'ஈ', 'உ', 'ஊ', \n",
    "         'o', 'r', 'ー', '日', 'あ', 'ぁ', 'ぇ', 'ç', 'ğ', 'ı', 'İ', 'î', 'ö', 'ş', 'i', 'u', 'چ', 'ح', 'خ', 'ش',\n",
    "         'â', 'ù', 'è', 's', 'î', 'ë', '胡', '童', '。', 'ᄁ', '알', '에', 'ᄃ', 'ऺ', 'त', 'ऻ', 'क', 'á', 'é', 'í', \n",
    "         'ó', 'ږ','ک', 'ﻑ', 'ی', 'م', 'ث', 'ţ', 'ă', 'ș', 'ş', 'б', 'в', 'г', 'д', 'ص', 'ف', 'ج', 'ر']\n",
    "\n",
    "X_train_ready = feature_engineering(X_train, chars_2)\n",
    "\n",
    "from sklearn.ensemble import RandomForestClassifier\n",
    "\n",
    "# Instantiate a random forest clf model\n",
    "rnd_clf_full = RandomForestClassifier(n_estimators=500, max_leaf_nodes=16, random_state=42)\n",
    "\n",
    "# fit our model with our training data\n",
    "rnd_clf_full.fit(X_train_ready, y_train)\n",
    "\n",
    "X_test_ready = feature_engineering(X_test, chars_2)\n",
    "\n",
    "# save our predictions\n",
    "y_predictions = rnd_clf_full.predict(X_test_ready)\n",
    "\n",
    "from sklearn.metrics import accuracy_score\n",
    "\n",
    "# instantiate accuracy metric\n",
    "acc_score = accuracy_score(y_test, y_predictions)\n",
    "\n",
    "# showcase the accuracy score\n",
    "print('Accuracy=%s' % (acc_score))"
   ]
  },
  {
   "cell_type": "markdown",
   "metadata": {},
   "source": [
    "# Predicting the language of a string\n",
    "\n",
    "Using the predict method to send a string and predict what language it is"
   ]
  },
  {
   "cell_type": "code",
   "execution_count": 13,
   "metadata": {},
   "outputs": [
    {
     "data": {
      "text/plain": [
       "array(['Swedish'], dtype=object)"
      ]
     },
     "execution_count": 13,
     "metadata": {},
     "output_type": "execute_result"
    }
   ],
   "source": [
    "# test our model with a new unseen string\n",
    "string = \"Hej, jag heter Jesse Byler. Den här meningen är på engelska, så förhoppningsvis klassas den som engelska. Det skulle vara trevligt, eller hur?\"\n",
    "\n",
    "hello = test_function(string, chars_2)\n",
    "\n",
    "# attempt to predict the language of the string\n",
    "pred_swed = rnd_clf.predict(hello)\n",
    "\n",
    "# showcase our prediction\n",
    "pred_swed"
   ]
  },
  {
   "cell_type": "markdown",
   "metadata": {},
   "source": [
    "# Second Model: RandomForrestClassifier\n",
    "BUT: we will send a list of lists into our feature_engeering function instead of a list of characters! We will train the model on the first 6,000 rows of the X_train data"
   ]
  },
  {
   "cell_type": "code",
   "execution_count": 24,
   "metadata": {},
   "outputs": [
    {
     "name": "stdout",
     "output_type": "stream",
     "text": [
      "Accuracy=0.8252272727272727\n"
     ]
    }
   ],
   "source": [
    "X_train_2 = X_train.head(6000)\n",
    "X_train_2_eng = feature_engineering_2(X_train_2, new_chars)\n",
    "\n",
    "y_train_2 = y_train.head(6000)\n",
    "\n",
    "from sklearn.ensemble import RandomForestClassifier\n",
    "\n",
    "# instantiate random forest clf \n",
    "rnd_clf_2 = RandomForestClassifier(n_estimators=500, max_leaf_nodes=16, random_state=42)\n",
    "\n",
    "# train our random forest clf\n",
    "rnd_clf_2.fit(X_train_2_eng, y_train_2)\n",
    "\n",
    "X_test_2 = feature_engineering_2(X_test, new_chars)\n",
    "\n",
    "# save predictions\n",
    "y_preds_2 = rnd_clf_2.predict(X_test_2)\n",
    "\n",
    "from sklearn.metrics import accuracy_score\n",
    "\n",
    "# instantiate an accuracy score\n",
    "acc_score_2 = accuracy_score(y_test, y_preds_2)\n",
    "\n",
    "print('Accuracy=%s' % (acc_score_2))"
   ]
  },
  {
   "cell_type": "markdown",
   "metadata": {},
   "source": [
    "# Third Model: Decision Tree Model\n",
    "Now I will train a decision tree model, later a grid search will be conducted"
   ]
  },
  {
   "cell_type": "code",
   "execution_count": 14,
   "metadata": {},
   "outputs": [
    {
     "data": {
      "text/plain": [
       "17600"
      ]
     },
     "execution_count": 14,
     "metadata": {},
     "output_type": "execute_result"
    }
   ],
   "source": [
    "X_train.size"
   ]
  },
  {
   "cell_type": "code",
   "execution_count": 15,
   "metadata": {},
   "outputs": [
    {
     "name": "stdout",
     "output_type": "stream",
     "text": [
      "Accuracy=0.8811363636363636\n"
     ]
    }
   ],
   "source": [
    "from sklearn.tree import DecisionTreeClassifier\n",
    "\n",
    "# instantiate a decision tree model\n",
    "tree_clf = DecisionTreeClassifier(random_state=42)\n",
    "\n",
    "# train our decision tree model\n",
    "tree_clf.fit(feature_engineering(X_train.head(9000), chars_2), y_train.head(9000))\n",
    "\n",
    "# save the predictions\n",
    "preds = tree_clf.predict(feature_engineering(X_test, chars_2))\n",
    "\n",
    "# instantiate an accuracy score metric\n",
    "acc_score_tree = accuracy_score(y_test, preds)\n",
    "\n",
    "print('Accuracy=%s' % (acc_score_tree))"
   ]
  },
  {
   "cell_type": "markdown",
   "metadata": {},
   "source": [
    "# Grid Searches for Decision Tree Hyperparameters to find optimal hyperparameters"
   ]
  },
  {
   "cell_type": "code",
   "execution_count": 16,
   "metadata": {},
   "outputs": [
    {
     "name": "stdout",
     "output_type": "stream",
     "text": [
      "Fitting 3 folds for each of 729 candidates, totalling 2187 fits\n"
     ]
    },
    {
     "name": "stderr",
     "output_type": "stream",
     "text": [
      "[Parallel(n_jobs=1)]: Using backend SequentialBackend with 1 concurrent workers.\n"
     ]
    },
    {
     "name": "stdout",
     "output_type": "stream",
     "text": [
      "The best parameters are:  {'max_depth': 20, 'max_leaf_nodes': 50, 'min_samples_split': 40}\n"
     ]
    },
    {
     "name": "stderr",
     "output_type": "stream",
     "text": [
      "[Parallel(n_jobs=1)]: Done 2187 out of 2187 | elapsed:  2.9min finished\n"
     ]
    }
   ],
   "source": [
    "from sklearn.model_selection import GridSearchCV\n",
    "\n",
    "# instantiate our parameter grid of possible hyperparameter outcomes\n",
    "param_grid = {'max_depth': [2,4,6,8,10,20,30,40,50], 'max_leaf_nodes': [2,4,6,8,10,20,30,40,50], \n",
    "                          'min_samples_split': [2,4,6,8,10,20,30,40,50]}\n",
    "\n",
    "# instantiate the grid search using 3-fold cross validation\n",
    "grid_search_cv = GridSearchCV(DecisionTreeClassifier(random_state=42),\n",
    "                              param_grid,\n",
    "                              verbose=1,\n",
    "                              cv=3)\n",
    "\n",
    "# fit our grid search to our training data\n",
    "grid_search_cv.fit(feature_engineering(X_train.head(9000), chars_2), y_train.head(9000))\n",
    "\n",
    "# showcase what seems to be the best hyperparameters\n",
    "print(\"The best parameters are: \", grid_search_cv.best_params_)"
   ]
  },
  {
   "cell_type": "code",
   "execution_count": 17,
   "metadata": {},
   "outputs": [
    {
     "name": "stdout",
     "output_type": "stream",
     "text": [
      "Fitting 3 folds for each of 343 candidates, totalling 1029 fits\n"
     ]
    },
    {
     "name": "stderr",
     "output_type": "stream",
     "text": [
      "[Parallel(n_jobs=1)]: Using backend SequentialBackend with 1 concurrent workers.\n",
      "[Parallel(n_jobs=1)]: Done 1029 out of 1029 | elapsed:  2.2min finished\n"
     ]
    },
    {
     "name": "stdout",
     "output_type": "stream",
     "text": [
      "The best parameters are:  {'max_depth': 21, 'max_leaf_nodes': 70, 'min_samples_split': 39}\n"
     ]
    }
   ],
   "source": [
    "# instantiate another parameter grid of possible hyperparameter outcomes\n",
    "param_grid = {'max_depth': [15,17,19,20,21,23,25], 'max_leaf_nodes': [40,45,50,55,60,70,80], \n",
    "                          'min_samples_split': [35,37,39,40,41,43,45]}\n",
    "\n",
    "# instantiate the grid search using 3-fold cross validation\n",
    "grid_search_cv = GridSearchCV(DecisionTreeClassifier(random_state=42),\n",
    "                              param_grid,\n",
    "                              verbose=1,\n",
    "                              cv=3)\n",
    "\n",
    "# fit our grid search to our training data\n",
    "grid_search_cv.fit(feature_engineering(X_train.head(9000), chars_2), y_train.head(9000))\n",
    "\n",
    "# showcase optimal parameters\n",
    "print(\"The best parameters are: \", grid_search_cv.best_params_)"
   ]
  },
  {
   "cell_type": "code",
   "execution_count": 18,
   "metadata": {},
   "outputs": [
    {
     "name": "stdout",
     "output_type": "stream",
     "text": [
      "Fitting 3 folds for each of 63 candidates, totalling 189 fits\n"
     ]
    },
    {
     "name": "stderr",
     "output_type": "stream",
     "text": [
      "[Parallel(n_jobs=1)]: Using backend SequentialBackend with 1 concurrent workers.\n"
     ]
    },
    {
     "name": "stdout",
     "output_type": "stream",
     "text": [
      "The best parameters are:  {'max_depth': 22, 'max_leaf_nodes': 75, 'min_samples_split': 38}\n"
     ]
    },
    {
     "name": "stderr",
     "output_type": "stream",
     "text": [
      "[Parallel(n_jobs=1)]: Done 189 out of 189 | elapsed:   22.6s finished\n"
     ]
    }
   ],
   "source": [
    "# Repeat grid search process\n",
    "param_grid = {'max_depth': [20,21,22], 'max_leaf_nodes': [65,67,69,70,71,73,75], \n",
    "                          'min_samples_split': [38,39,40]}\n",
    "\n",
    "grid_search_cv = GridSearchCV(DecisionTreeClassifier(random_state=42),\n",
    "                              param_grid,\n",
    "                              verbose=1,\n",
    "                              cv=3)\n",
    "\n",
    "grid_search_cv.fit(feature_engineering(X_train.head(9000), chars_2), y_train.head(9000))\n",
    "\n",
    "print(\"The best parameters are: \", grid_search_cv.best_params_)"
   ]
  },
  {
   "cell_type": "code",
   "execution_count": 18,
   "metadata": {},
   "outputs": [
    {
     "name": "stdout",
     "output_type": "stream",
     "text": [
      "Fitting 3 folds for each of 175 candidates, totalling 525 fits\n"
     ]
    },
    {
     "name": "stderr",
     "output_type": "stream",
     "text": [
      "[Parallel(n_jobs=1)]: Using backend SequentialBackend with 1 concurrent workers.\n"
     ]
    },
    {
     "name": "stdout",
     "output_type": "stream",
     "text": [
      "The best parameters are:  {'max_depth': 22, 'max_leaf_nodes': 75, 'min_samples_split': 36}\n"
     ]
    },
    {
     "name": "stderr",
     "output_type": "stream",
     "text": [
      "[Parallel(n_jobs=1)]: Done 525 out of 525 | elapsed:  1.1min finished\n"
     ]
    }
   ],
   "source": [
    "# Repeat grid search process\n",
    "param_grid = {'max_depth': [20,21,22,23,24], 'max_leaf_nodes': [73,74,75,76,77,78,79], \n",
    "                          'min_samples_split': [36,37,38,39,40]}\n",
    "\n",
    "grid_search_cv = GridSearchCV(DecisionTreeClassifier(random_state=42),\n",
    "                              param_grid,\n",
    "                              verbose=1,\n",
    "                              cv=3)\n",
    "\n",
    "grid_search_cv.fit(feature_engineering(X_train.head(9000), chars_2), y_train.head(9000))\n",
    "\n",
    "print(\"The best parameters are: \", grid_search_cv.best_params_)"
   ]
  },
  {
   "cell_type": "markdown",
   "metadata": {},
   "source": [
    "# Fourth Model: Decision Tree with optimal parameters"
   ]
  },
  {
   "cell_type": "code",
   "execution_count": 24,
   "metadata": {},
   "outputs": [
    {
     "name": "stdout",
     "output_type": "stream",
     "text": [
      "Accuracy=0.8934090909090909\n"
     ]
    }
   ],
   "source": [
    "from sklearn.tree import DecisionTreeClassifier\n",
    "\n",
    "# instantiate a decision tree clf model with optimal hyper parameters\n",
    "tree_clf_opt = DecisionTreeClassifier(max_depth=22, max_leaf_nodes=75,\n",
    "                                      min_samples_split=36, random_state=42)\n",
    "\n",
    "# fit our model onto our training data\n",
    "tree_clf_opt.fit(feature_engineering(X_train.head(9000), chars_2), y_train.head(9000))\n",
    "\n",
    "# save our predictions\n",
    "opt_preds = tree_clf_opt.predict(feature_engineering(X_test, chars_2))\n",
    "\n",
    "# instantiate our accuracy score\n",
    "acc_score_tree_opt = accuracy_score(y_test, opt_preds)\n",
    "\n",
    "# showcase accuracy score\n",
    "print('Accuracy=%s' % (acc_score_tree_opt))"
   ]
  },
  {
   "cell_type": "markdown",
   "metadata": {},
   "source": [
    "With the optimal hyperparameters, the accuracy score went up 1.23%"
   ]
  },
  {
   "cell_type": "markdown",
   "metadata": {},
   "source": [
    "# Lets Evaluate How Many Text were Misclassified (Decision Tree)"
   ]
  },
  {
   "cell_type": "code",
   "execution_count": 160,
   "metadata": {},
   "outputs": [],
   "source": [
    "# Labels\n",
    "label_arr = np.array(y_test) # store actual label into array data structure\n",
    "label_DF = pd.DataFrame(label_arr, columns = ['Labels']) # store actual label into Data Frame data structure\n",
    "\n",
    "# Predictions\n",
    "pred_arr = np.array(opt_preds) # store predictions in array \n",
    "pred_DF = pd.DataFrame(pred_arr, columns = ['Predictions']) # store actual label into Data Frame data structure\n",
    "\n",
    "# Combine Dfs to together to create one DF\n",
    "label_DF = label_DF.assign(Predictions=pred_DF) #assign invocation used to place the reg_outputs list as a column and values called regreesion_predicted\n"
   ]
  },
  {
   "cell_type": "code",
   "execution_count": 110,
   "metadata": {},
   "outputs": [
    {
     "name": "stdout",
     "output_type": "stream",
     "text": [
      "We have 469 misclassifications for our Decision Tree model.\n"
     ]
    }
   ],
   "source": [
    "# convert label DF to an array\n",
    "label_array = np.array(label_DF)\n",
    "\n",
    "# initialize our error\n",
    "error = 0\n",
    "\n",
    "### Count up the total number of misclassifications\n",
    "\n",
    "# initialize all counters \n",
    "portugese_count = 0; japanese_count = 0; russian_count=0; latin_count=0; pushto_count=0;hindi_count=0; dutch_count=0;chinese_count=0;\n",
    "urdu_count=0;korean_count=0;french_count=0;thai_count=0;swedish_count=0; english_count=0;estonian_count=0;turkish_count =0;\n",
    "indonesian_count=0;tamil_count=0;arabic_count=0;persian_count=0;spanish_count=0;romanian_count=0;\n",
    "\n",
    "# count up frequency of all errors for every language (22 languages)\n",
    "for label in label_array:\n",
    "    if label[0] != label[1]:\n",
    "        error = error + 1\n",
    "        if label[0] == \"Portugese\":\n",
    "            portugese_count = portugese_count + 1\n",
    "        if label[0] == \"Japanese\":\n",
    "            japanese_count = japanese_count + 1\n",
    "        if label[0] == \"Russian\":\n",
    "            russian_count = russian_count + 1\n",
    "        if label[0] == \"Latin\":\n",
    "            latin_count = latin_count + 1\n",
    "        if label[0] == \"Pushto\":\n",
    "            pushto_count = pushto_count + 1\n",
    "        if label[0] == \"Hindi\":\n",
    "            hindi_count = hindi_count + 1\n",
    "        if label[0] == \"Dutch\":\n",
    "            dutch_count = dutch_count + 1\n",
    "        if label[0] == \"Chinese\":\n",
    "            chinese_count = chinese_count + 1\n",
    "        if label[0] == \"Urdu\":\n",
    "            urdu_count = urdu_count + 1\n",
    "        if label[0] == \"Korean\":\n",
    "            korean_count = korean_count + 1\n",
    "        if label[0] == \"French\":\n",
    "            french_count = french_count + 1      \n",
    "        if label[0] == \"Thai\":\n",
    "            thai_count = thai_count + 1\n",
    "        if label[0] == \"Swedish\":\n",
    "            swedish_count = swedish_count + 1\n",
    "        if label[0] == \"English\":\n",
    "            english_count = english_count + 1       \n",
    "        if label[0] == \"Estonian\":\n",
    "            estonian_count = estonian_count + 1\n",
    "        if label[0] == \"Turkish\":\n",
    "            turkish_count = turkish_count + 1\n",
    "        if label[0] == \"Indonesian\":\n",
    "            indonesian_count = indonesian_count + 1\n",
    "        if label[0] == \"Tamil\":\n",
    "            tamil_count = tamil_count + 1\n",
    "        if label[0] == \"Arabic\":\n",
    "            arabic_count = arabic_count + 1\n",
    "        if label[0] == \"Persian\":\n",
    "            persian_count = persian_count + 1\n",
    "        if label[0] == \"Spanish\":\n",
    "            spanish_count = spanish_count + 1\n",
    "        if label[0] == \"Romanian\":\n",
    "            romanian_count = romanian_count + 1\n",
    "        \n",
    "#print(japanese_count, portugese_count, chinese_count, dutch_count, hindi_count, pushto_count, latin_count, russian_count)\n",
    "print(\"We have\",error, \"misclassifications for our Decision Tree model.\")\n",
    "   \n",
    "# list of language misclassification frequencies\n",
    "language_count_arr = [portugese_count, japanese_count, russian_count, latin_count, pushto_count, hindi_count, dutch_count, chinese_count,\n",
    "urdu_count, korean_count, french_count, thai_count, swedish_count, english_count, estonian_count, turkish_count,\n",
    "indonesian_count, tamil_count, arabic_count, persian_count, spanish_count, romanian_count]\n",
    "\n",
    "# set of languages\n",
    "lang_list = list(set(list(data['language'])))\n"
   ]
  },
  {
   "cell_type": "code",
   "execution_count": 124,
   "metadata": {},
   "outputs": [
    {
     "data": {
      "image/png": "[encoded data removed]",
      "text/plain": [
       "<Figure size 432x288 with 1 Axes>"
      ]
     },
     "metadata": {
      "needs_background": "light"
     },
     "output_type": "display_data"
    }
   ],
   "source": [
    "import matplotlib.pyplot as plt\n",
    "\n",
    "# construct figure\n",
    "fig = plt.figure()\n",
    "ax = fig.add_axes([0,0,5,3])\n",
    "\n",
    "# Construct bar plot and showcase\n",
    "ax.bar(lang_list,language_count_arr, color = \"blue\")\n",
    "plt.xlabel('Languages')\n",
    "plt.ylabel('Misclassifications')\n",
    "plt.title('Decision Tree Performance Evaluation')\n",
    "plt.show()"
   ]
  },
  {
   "cell_type": "markdown",
   "metadata": {},
   "source": [
    "# Grid Searches for Random Forest Hyperparameters"
   ]
  },
  {
   "cell_type": "code",
   "execution_count": 63,
   "metadata": {},
   "outputs": [
    {
     "name": "stdout",
     "output_type": "stream",
     "text": [
      "Fitting 3 folds for each of 360 candidates, totalling 1080 fits\n"
     ]
    },
    {
     "name": "stderr",
     "output_type": "stream",
     "text": [
      "[Parallel(n_jobs=1)]: Using backend SequentialBackend with 1 concurrent workers.\n",
      "[Parallel(n_jobs=1)]: Done 1080 out of 1080 | elapsed: 51.3min finished\n"
     ]
    },
    {
     "name": "stdout",
     "output_type": "stream",
     "text": [
      "The best parameters are:  {'max_depth': 40, 'min_samples_split': 10, 'n_estimators': 500}\n"
     ]
    }
   ],
   "source": [
    "from sklearn.model_selection import GridSearchCV\n",
    "\n",
    "# instantiate parameter grid\n",
    "param_grid_2 = {'max_depth': [1,2,3,4,5,10,20,30,40,50], 'n_estimators': [10,100,200,300,400,500],\n",
    "              'min_samples_split': [5,10,20,30,40,50]}\n",
    "\n",
    "# instantiate grid search\n",
    "grid_search_cv_2 = GridSearchCV(RandomForestClassifier(random_state=42),\n",
    "                              param_grid_2,\n",
    "                              verbose=1,\n",
    "                              cv=3)\n",
    "\n",
    "# fit our grid search onto the training data\n",
    "grid_search_cv_2.fit(X_train_ready, y_train_ready)\n",
    "\n",
    "# showcase best parameters\n",
    "print(\"The best parameters are: \", grid_search_cv_2.best_params_)"
   ]
  },
  {
   "cell_type": "code",
   "execution_count": 64,
   "metadata": {},
   "outputs": [
    {
     "name": "stdout",
     "output_type": "stream",
     "text": [
      "Fitting 3 folds for each of 147 candidates, totalling 441 fits\n"
     ]
    },
    {
     "name": "stderr",
     "output_type": "stream",
     "text": [
      "[Parallel(n_jobs=1)]: Using backend SequentialBackend with 1 concurrent workers.\n",
      "[Parallel(n_jobs=1)]: Done 441 out of 441 | elapsed: 245.9min finished\n"
     ]
    },
    {
     "name": "stdout",
     "output_type": "stream",
     "text": [
      "The best parameters are:  {'max_depth': 45, 'min_samples_split': 7, 'n_estimators': 700}\n"
     ]
    }
   ],
   "source": [
    "# repeat\n",
    "param_grid_2 = {'max_depth': [35,37,39,40,41,43,45], 'n_estimators': [500,600,700],\n",
    "              'min_samples_split': [5,7,9,10,11,13,15]}\n",
    "\n",
    "grid_search_cv_2 = GridSearchCV(RandomForestClassifier(random_state=42),\n",
    "                              param_grid_2,\n",
    "                              verbose=1,\n",
    "                              cv=3)\n",
    "\n",
    "grid_search_cv_2.fit(X_train_ready, y_train_ready)\n",
    "\n",
    "print(\"The best parameters are: \", grid_search_cv_2.best_params_)"
   ]
  },
  {
   "cell_type": "code",
   "execution_count": 65,
   "metadata": {},
   "outputs": [
    {
     "name": "stdout",
     "output_type": "stream",
     "text": [
      "Fitting 3 folds for each of 140 candidates, totalling 420 fits\n"
     ]
    },
    {
     "name": "stderr",
     "output_type": "stream",
     "text": [
      "[Parallel(n_jobs=1)]: Using backend SequentialBackend with 1 concurrent workers.\n",
      "[Parallel(n_jobs=1)]: Done 420 out of 420 | elapsed: 146.2min finished\n"
     ]
    },
    {
     "name": "stdout",
     "output_type": "stream",
     "text": [
      "The best parameters are:  {'max_depth': 45, 'min_samples_split': 7, 'n_estimators': 700}\n"
     ]
    }
   ],
   "source": [
    "# repeat\n",
    "param_grid_2 = {'max_depth': [40,42,44,45,46,48,50], 'n_estimators': [160,600,700,800],\n",
    "              'min_samples_split': [5,6,7,8,9]}\n",
    "\n",
    "grid_search_cv_2 = GridSearchCV(RandomForestClassifier(random_state=42),\n",
    "                              param_grid_2,\n",
    "                              verbose=1,\n",
    "                              cv=3)\n",
    "\n",
    "grid_search_cv_2.fit(X_train_ready, y_train_ready)\n",
    "\n",
    "print(\"The best parameters are: \", grid_search_cv_2.best_params_)"
   ]
  },
  {
   "cell_type": "code",
   "execution_count": 66,
   "metadata": {},
   "outputs": [
    {
     "name": "stdout",
     "output_type": "stream",
     "text": [
      "Fitting 3 folds for each of 5 candidates, totalling 15 fits\n"
     ]
    },
    {
     "name": "stderr",
     "output_type": "stream",
     "text": [
      "[Parallel(n_jobs=1)]: Using backend SequentialBackend with 1 concurrent workers.\n",
      "[Parallel(n_jobs=1)]: Done  15 out of  15 | elapsed:  4.4min finished\n"
     ]
    },
    {
     "name": "stdout",
     "output_type": "stream",
     "text": [
      "The best parameters are:  {'max_depth': 45, 'min_samples_split': 7, 'n_estimators': 700}\n"
     ]
    }
   ],
   "source": [
    "# repeat\n",
    "param_grid_2 = {'max_depth': [45], 'n_estimators': [650,675,700,725,750],\n",
    "              'min_samples_split': [7]}\n",
    "\n",
    "grid_search_cv_2 = GridSearchCV(RandomForestClassifier(random_state=42),\n",
    "                              param_grid_2,\n",
    "                              verbose=1,\n",
    "                              cv=3)\n",
    "\n",
    "grid_search_cv_2.fit(X_train_ready, y_train_ready)\n",
    "\n",
    "print(\"The best parameters are: \", grid_search_cv_2.best_params_)"
   ]
  },
  {
   "cell_type": "code",
   "execution_count": 67,
   "metadata": {},
   "outputs": [
    {
     "name": "stdout",
     "output_type": "stream",
     "text": [
      "Fitting 3 folds for each of 5 candidates, totalling 15 fits\n"
     ]
    },
    {
     "name": "stderr",
     "output_type": "stream",
     "text": [
      "[Parallel(n_jobs=1)]: Using backend SequentialBackend with 1 concurrent workers.\n",
      "[Parallel(n_jobs=1)]: Done  15 out of  15 | elapsed:  2.4min finished\n"
     ]
    },
    {
     "name": "stdout",
     "output_type": "stream",
     "text": [
      "The best parameters are:  {'max_depth': 45, 'min_samples_split': 7, 'n_estimators': 715}\n"
     ]
    }
   ],
   "source": [
    "# repeat\n",
    "param_grid_2 = {'max_depth': [45], 'n_estimators': [685,695,700,705,715],\n",
    "              'min_samples_split': [7]}\n",
    "\n",
    "grid_search_cv_2 = GridSearchCV(RandomForestClassifier(random_state=42),\n",
    "                              param_grid_2,\n",
    "                              verbose=1,\n",
    "                              cv=3)\n",
    "\n",
    "grid_search_cv_2.fit(X_train_ready, y_train_ready)\n",
    "\n",
    "print(\"The best parameters are: \", grid_search_cv_2.best_params_)"
   ]
  },
  {
   "cell_type": "code",
   "execution_count": 68,
   "metadata": {},
   "outputs": [
    {
     "name": "stdout",
     "output_type": "stream",
     "text": [
      "Fitting 3 folds for each of 5 candidates, totalling 15 fits\n"
     ]
    },
    {
     "name": "stderr",
     "output_type": "stream",
     "text": [
      "[Parallel(n_jobs=1)]: Using backend SequentialBackend with 1 concurrent workers.\n",
      "[Parallel(n_jobs=1)]: Done  15 out of  15 | elapsed:  2.2min finished\n"
     ]
    },
    {
     "name": "stdout",
     "output_type": "stream",
     "text": [
      "The best parameters are:  {'max_depth': 45, 'min_samples_split': 7, 'n_estimators': 716}\n"
     ]
    }
   ],
   "source": [
    "# repeat\n",
    "param_grid_2 = {'max_depth': [45], 'n_estimators': [710,714,715,716,720],\n",
    "              'min_samples_split': [7]}\n",
    "\n",
    "grid_search_cv_2 = GridSearchCV(RandomForestClassifier(random_state=42),\n",
    "                              param_grid_2,\n",
    "                              verbose=1,\n",
    "                              cv=3)\n",
    "\n",
    "grid_search_cv_2.fit(X_train_ready, y_train_ready)\n",
    "\n",
    "print(\"The best parameters are: \", grid_search_cv_2.best_params_)"
   ]
  },
  {
   "cell_type": "code",
   "execution_count": 69,
   "metadata": {},
   "outputs": [
    {
     "name": "stdout",
     "output_type": "stream",
     "text": [
      "Fitting 3 folds for each of 4 candidates, totalling 12 fits\n"
     ]
    },
    {
     "name": "stderr",
     "output_type": "stream",
     "text": [
      "[Parallel(n_jobs=1)]: Using backend SequentialBackend with 1 concurrent workers.\n",
      "[Parallel(n_jobs=1)]: Done  12 out of  12 | elapsed:  2.1min finished\n"
     ]
    },
    {
     "name": "stdout",
     "output_type": "stream",
     "text": [
      "The best parameters are:  {'max_depth': 45, 'min_samples_split': 7, 'n_estimators': 716}\n"
     ]
    }
   ],
   "source": [
    "# repeat\n",
    "param_grid_2 = {'max_depth': [45], 'n_estimators': [715,716,717,718],\n",
    "              'min_samples_split': [7]}\n",
    "\n",
    "grid_search_cv_2 = GridSearchCV(RandomForestClassifier(random_state=42),\n",
    "                              param_grid_2,\n",
    "                              verbose=1,\n",
    "                              cv=3)\n",
    "\n",
    "grid_search_cv_2.fit(X_train_ready, y_train_ready)\n",
    "\n",
    "print(\"The best parameters are: \", grid_search_cv_2.best_params_)"
   ]
  },
  {
   "cell_type": "code",
   "execution_count": 70,
   "metadata": {},
   "outputs": [
    {
     "name": "stdout",
     "output_type": "stream",
     "text": [
      "Fitting 3 folds for each of 5 candidates, totalling 15 fits\n"
     ]
    },
    {
     "name": "stderr",
     "output_type": "stream",
     "text": [
      "[Parallel(n_jobs=1)]: Using backend SequentialBackend with 1 concurrent workers.\n",
      "[Parallel(n_jobs=1)]: Done  15 out of  15 | elapsed:  1.6min finished\n"
     ]
    },
    {
     "name": "stdout",
     "output_type": "stream",
     "text": [
      "The best parameters are:  {'max_depth': 45, 'max_leaf_nodes': 50, 'min_samples_split': 7, 'n_estimators': 716}\n"
     ]
    }
   ],
   "source": [
    "# repeat\n",
    "param_grid_2 = {'max_depth': [45], 'n_estimators': [716],\n",
    "              'min_samples_split': [7], 'max_leaf_nodes': [10,20,30,40,50]}\n",
    "\n",
    "grid_search_cv_2 = GridSearchCV(RandomForestClassifier(random_state=42),\n",
    "                              param_grid_2,\n",
    "                              verbose=1,\n",
    "                              cv=3)\n",
    "\n",
    "grid_search_cv_2.fit(X_train_ready, y_train_ready)\n",
    "\n",
    "print(\"The best parameters are: \", grid_search_cv_2.best_params_)"
   ]
  },
  {
   "cell_type": "markdown",
   "metadata": {},
   "source": [
    "# Fifth Model: Random Forrest with Optimal Parameters"
   ]
  },
  {
   "cell_type": "code",
   "execution_count": 71,
   "metadata": {},
   "outputs": [
    {
     "name": "stdout",
     "output_type": "stream",
     "text": [
      "Accuracy=0.9113636363636364\n"
     ]
    }
   ],
   "source": [
    "from sklearn.ensemble import RandomForestClassifier\n",
    "\n",
    "# instantiate random forest clf model\n",
    "rnd_clf_opt = RandomForestClassifier(n_estimators=716, min_samples_split=7, max_depth=45, max_leaf_nodes=50, random_state=42)\n",
    "\n",
    "# fit our model onto our training data\n",
    "rnd_clf_opt.fit(X_train_ready, y_train_ready)\n",
    "\n",
    "# save our predictions\n",
    "y_preds_opt = rnd_clf_opt.predict(X_test_ready)\n",
    "\n",
    "# instantiate accuracy score and showcase the score\n",
    "from sklearn.metrics import accuracy_score\n",
    "acc_score = accuracy_score(y_test, y_preds_opt)\n",
    "\n",
    "print('Accuracy=%s' % (acc_score))"
   ]
  },
  {
   "cell_type": "markdown",
   "metadata": {},
   "source": [
    "# Lets Evaluate How Many Text were Misclassified (Random Forest)"
   ]
  },
  {
   "cell_type": "code",
   "execution_count": 159,
   "metadata": {},
   "outputs": [],
   "source": [
    "# Labels\n",
    "label_arr = np.array(y_test) # store actual label into array data structure\n",
    "label_DF = pd.DataFrame(label_arr, columns = ['Labels']) # store actual label into Data Frame data structure\n",
    "\n",
    "# Predictions\n",
    "pred_arr2 = np.array(y_preds_opt) # store predictions in array \n",
    "pred_DF2 = pd.DataFrame(pred_arr2, columns = ['Predictions']) # store actual label into Data Frame data structure\n",
    "\n",
    "# Combine Dfs to together to create one DF\n",
    "label_DF2 = label_DF.assign(Predictions=pred_DF2) #assign invocation used to place the reg_outputs list as a column and values called regreesion_predicted\n"
   ]
  },
  {
   "cell_type": "code",
   "execution_count": 130,
   "metadata": {},
   "outputs": [
    {
     "name": "stdout",
     "output_type": "stream",
     "text": [
      "We have 390 misclassifications for our Random Forest model.\n"
     ]
    }
   ],
   "source": [
    "# convert label DF to an array\n",
    "label_array2 = np.array(label_DF2)\n",
    "\n",
    "# initialize our error\n",
    "error = 0\n",
    "\n",
    "### Count up the total number of misclassifications\n",
    "\n",
    "# initialize all counters \n",
    "portugese_count = 0; japanese_count = 0; russian_count=0; latin_count=0; pushto_count=0;hindi_count=0; dutch_count=0;chinese_count=0;\n",
    "urdu_count=0;korean_count=0;french_count=0;thai_count=0;swedish_count=0; english_count=0;estonian_count=0;turkish_count =0;\n",
    "indonesian_count=0;tamil_count=0;arabic_count=0;persian_count=0;spanish_count=0;romanian_count=0;\n",
    "\n",
    "# count up frequency of all errors for every language (22 languages)\n",
    "for label in label_array2:\n",
    "    if label[0] != label[1]:\n",
    "        error = error + 1\n",
    "        if label[0] == \"Portugese\":\n",
    "            portugese_count = portugese_count + 1\n",
    "        if label[0] == \"Japanese\":\n",
    "            japanese_count = japanese_count + 1\n",
    "        if label[0] == \"Russian\":\n",
    "            russian_count = russian_count + 1\n",
    "        if label[0] == \"Latin\":\n",
    "            latin_count = latin_count + 1\n",
    "        if label[0] == \"Pushto\":\n",
    "            pushto_count = pushto_count + 1\n",
    "        if label[0] == \"Hindi\":\n",
    "            hindi_count = hindi_count + 1\n",
    "        if label[0] == \"Dutch\":\n",
    "            dutch_count = dutch_count + 1\n",
    "        if label[0] == \"Chinese\":\n",
    "            chinese_count = chinese_count + 1\n",
    "        if label[0] == \"Urdu\":\n",
    "            urdu_count = urdu_count + 1\n",
    "        if label[0] == \"Korean\":\n",
    "            korean_count = korean_count + 1\n",
    "        if label[0] == \"French\":\n",
    "            french_count = french_count + 1      \n",
    "        if label[0] == \"Thai\":\n",
    "            thai_count = thai_count + 1\n",
    "        if label[0] == \"Swedish\":\n",
    "            swedish_count = swedish_count + 1\n",
    "        if label[0] == \"English\":\n",
    "            english_count = english_count + 1       \n",
    "        if label[0] == \"Estonian\":\n",
    "            estonian_count = estonian_count + 1\n",
    "        if label[0] == \"Turkish\":\n",
    "            turkish_count = turkish_count + 1\n",
    "        if label[0] == \"Indonesian\":\n",
    "            indonesian_count = indonesian_count + 1\n",
    "        if label[0] == \"Tamil\":\n",
    "            tamil_count = tamil_count + 1\n",
    "        if label[0] == \"Arabic\":\n",
    "            arabic_count = arabic_count + 1\n",
    "        if label[0] == \"Persian\":\n",
    "            persian_count = persian_count + 1\n",
    "        if label[0] == \"Spanish\":\n",
    "            spanish_count = spanish_count + 1\n",
    "        if label[0] == \"Romanian\":\n",
    "            romanian_count = romanian_count + 1\n",
    "            \n",
    "# showcase how many misclassifications we have in total       \n",
    "print(\"We have\",error, \"misclassifications for our Random Forest model.\")\n",
    "   \n",
    "# list of language misclassification frequencies\n",
    "language_count_arr = [portugese_count, japanese_count, russian_count, latin_count, pushto_count, hindi_count, dutch_count, chinese_count,\n",
    "urdu_count, korean_count, french_count, thai_count, swedish_count, english_count, estonian_count, turkish_count,\n",
    "indonesian_count, tamil_count, arabic_count, persian_count, spanish_count, romanian_count]\n",
    "\n",
    "# set of languages\n",
    "lang_list = list(set(list(data['language'])))"
   ]
  },
  {
   "cell_type": "code",
   "execution_count": 131,
   "metadata": {},
   "outputs": [
    {
     "data": {
      "image/png": "[encoded data removed]",
      "text/plain": [
       "<Figure size 432x288 with 1 Axes>"
      ]
     },
     "metadata": {
      "needs_background": "light"
     },
     "output_type": "display_data"
    }
   ],
   "source": [
    "import matplotlib.pyplot as plt\n",
    "\n",
    "# construct figure\n",
    "fig = plt.figure()\n",
    "ax = fig.add_axes([0,0,5,3])\n",
    "\n",
    "# Construct bar plot and showcase\n",
    "ax.bar(lang_list,language_count_arr, color = \"Green\")\n",
    "plt.xlabel('Languages')\n",
    "plt.ylabel('Misclassifications')\n",
    "plt.title('Random Forest Performance Evaluation')\n",
    "plt.show()"
   ]
  },
  {
   "cell_type": "markdown",
   "metadata": {},
   "source": [
    "# Gradient Boosting Classifier Model"
   ]
  },
  {
   "cell_type": "code",
   "execution_count": 134,
   "metadata": {},
   "outputs": [
    {
     "name": "stdout",
     "output_type": "stream",
     "text": [
      "Accuracy=0.9227272727272727\n"
     ]
    }
   ],
   "source": [
    "from sklearn.ensemble import GradientBoostingClassifier\n",
    "\n",
    "# instantiate our model\n",
    "gbrt = GradientBoostingClassifier(random_state=42)\n",
    "\n",
    "# train our model\n",
    "gbrt.fit(X_train_ready, y_train_ready)\n",
    "\n",
    "# save predictions\n",
    "gbrt_preds = gbrt.predict(X_test_ready)\n",
    "\n",
    "from sklearn.metrics import accuracy_score\n",
    "\n",
    "# instantiate accuracy score\n",
    "acc_score_gbrt = accuracy_score(y_test, gbrt_preds)\n",
    "\n",
    "print('Accuracy=%s' % (acc_score_gbrt))"
   ]
  },
  {
   "cell_type": "markdown",
   "metadata": {},
   "source": [
    "# Lets Evaluate How Many Text were Misclassified (Gradient Booster Model)"
   ]
  },
  {
   "cell_type": "code",
   "execution_count": 158,
   "metadata": {},
   "outputs": [],
   "source": [
    "# Labels\n",
    "label_arr = np.array(y_test) # store actual label into array data structure\n",
    "label_DF = pd.DataFrame(label_arr, columns = ['Labels']) # store actual label into Data Frame data structure\n",
    "\n",
    "# Predictions\n",
    "pred_arr3 = np.array(gbrt_preds) # store predictions in array \n",
    "pred_DF3 = pd.DataFrame(pred_arr3, columns = ['Predictions']) # store actual label into Data Frame data structure\n",
    "\n",
    "# Combine Dfs to together to create one DF\n",
    "label_DF3 = label_DF.assign(Predictions=pred_DF3) #assign invocation used to place the reg_outputs list as a column and values called regreesion_predicted"
   ]
  },
  {
   "cell_type": "code",
   "execution_count": 137,
   "metadata": {},
   "outputs": [
    {
     "name": "stdout",
     "output_type": "stream",
     "text": [
      "We have 340 misclassifications for our Gradient Boosting model.\n"
     ]
    }
   ],
   "source": [
    "# convert label DF to an array\n",
    "label_array3 = np.array(label_DF3)\n",
    "\n",
    "# initialize our error\n",
    "error = 0\n",
    "\n",
    "### Count up the total number of misclassifications\n",
    "\n",
    "# initialize all counters \n",
    "portugese_count = 0; japanese_count = 0; russian_count=0; latin_count=0; pushto_count=0;hindi_count=0; dutch_count=0;chinese_count=0;\n",
    "urdu_count=0;korean_count=0;french_count=0;thai_count=0;swedish_count=0; english_count=0;estonian_count=0;turkish_count =0;\n",
    "indonesian_count=0;tamil_count=0;arabic_count=0;persian_count=0;spanish_count=0;romanian_count=0;\n",
    "\n",
    "# count up frequency of all errors for every language (22 languages)\n",
    "for label in label_array3:\n",
    "    if label[0] != label[1]:\n",
    "        error = error + 1\n",
    "        if label[0] == \"Portugese\":\n",
    "            portugese_count = portugese_count + 1\n",
    "        if label[0] == \"Japanese\":\n",
    "            japanese_count = japanese_count + 1\n",
    "        if label[0] == \"Russian\":\n",
    "            russian_count = russian_count + 1\n",
    "        if label[0] == \"Latin\":\n",
    "            latin_count = latin_count + 1\n",
    "        if label[0] == \"Pushto\":\n",
    "            pushto_count = pushto_count + 1\n",
    "        if label[0] == \"Hindi\":\n",
    "            hindi_count = hindi_count + 1\n",
    "        if label[0] == \"Dutch\":\n",
    "            dutch_count = dutch_count + 1\n",
    "        if label[0] == \"Chinese\":\n",
    "            chinese_count = chinese_count + 1\n",
    "        if label[0] == \"Urdu\":\n",
    "            urdu_count = urdu_count + 1\n",
    "        if label[0] == \"Korean\":\n",
    "            korean_count = korean_count + 1\n",
    "        if label[0] == \"French\":\n",
    "            french_count = french_count + 1      \n",
    "        if label[0] == \"Thai\":\n",
    "            thai_count = thai_count + 1\n",
    "        if label[0] == \"Swedish\":\n",
    "            swedish_count = swedish_count + 1\n",
    "        if label[0] == \"English\":\n",
    "            english_count = english_count + 1       \n",
    "        if label[0] == \"Estonian\":\n",
    "            estonian_count = estonian_count + 1\n",
    "        if label[0] == \"Turkish\":\n",
    "            turkish_count = turkish_count + 1\n",
    "        if label[0] == \"Indonesian\":\n",
    "            indonesian_count = indonesian_count + 1\n",
    "        if label[0] == \"Tamil\":\n",
    "            tamil_count = tamil_count + 1\n",
    "        if label[0] == \"Arabic\":\n",
    "            arabic_count = arabic_count + 1\n",
    "        if label[0] == \"Persian\":\n",
    "            persian_count = persian_count + 1\n",
    "        if label[0] == \"Spanish\":\n",
    "            spanish_count = spanish_count + 1\n",
    "        if label[0] == \"Romanian\":\n",
    "            romanian_count = romanian_count + 1\n",
    "            \n",
    "# showcase how many misclassifications we have in total       \n",
    "print(\"We have\",error, \"misclassifications for our Gradient Boosting model.\")\n",
    "   \n",
    "# list of language misclassification frequencies\n",
    "language_count_arr = [portugese_count, japanese_count, russian_count, latin_count, pushto_count, hindi_count, dutch_count, chinese_count,\n",
    "urdu_count, korean_count, french_count, thai_count, swedish_count, english_count, estonian_count, turkish_count,\n",
    "indonesian_count, tamil_count, arabic_count, persian_count, spanish_count, romanian_count]\n",
    "\n",
    "# set of languages\n",
    "lang_list = list(set(list(data['language'])))"
   ]
  },
  {
   "cell_type": "code",
   "execution_count": 138,
   "metadata": {},
   "outputs": [
    {
     "data": {
      "image/png": "[encoded data removed]",
      "text/plain": [
       "<Figure size 432x288 with 1 Axes>"
      ]
     },
     "metadata": {
      "needs_background": "light"
     },
     "output_type": "display_data"
    }
   ],
   "source": [
    "import matplotlib.pyplot as plt\n",
    "\n",
    "# construct figure\n",
    "fig = plt.figure()\n",
    "ax = fig.add_axes([0,0,5,3])\n",
    "\n",
    "# Construct bar plot and showcase\n",
    "ax.bar(lang_list,language_count_arr, color = \"orange\")\n",
    "plt.xlabel('Languages')\n",
    "plt.ylabel('Misclassifications')\n",
    "plt.title('Gradient Boosting Performance Evaluation')\n",
    "plt.show()"
   ]
  },
  {
   "cell_type": "markdown",
   "metadata": {},
   "source": [
    "# Comparing Models: Decision tree, Random Forest, and Gradient Booster"
   ]
  },
  {
   "cell_type": "code",
   "execution_count": 157,
   "metadata": {},
   "outputs": [
    {
     "data": {
      "image/png": "[encoded data removed]",
      "text/plain": [
       "<Figure size 432x288 with 1 Axes>"
      ]
     },
     "metadata": {
      "needs_background": "light"
     },
     "output_type": "display_data"
    },
    {
     "name": "stdout",
     "output_type": "stream",
     "text": [
      "Gradient Booster seems to be the best model!\n",
      "However, Gradient Booster score does not deviate that much from Random Forest score, 0.011363636363636354 ,\n",
      "which may mean the their difference is not statistically signiificant.\n"
     ]
    }
   ],
   "source": [
    "import matplotlib.pyplot as plt\n",
    "\n",
    "# construct figure\n",
    "fig = plt.figure()\n",
    "ax = fig.add_axes([0,0,1,1])\n",
    "\n",
    "# model names and corresponding scores\n",
    "model_names = ['Decision Tree', 'Random Forest', 'Gradient Booster']\n",
    "acc_scores = [0.8934090909090909,0.9113636363636364, 0.9227272727272727]\n",
    "\n",
    "# construct bar plot\n",
    "ax.bar(model_names,acc_scores, color = \"red\")\n",
    "plt.xlabel('Models')\n",
    "plt.ylabel('Accuracy')\n",
    "plt.title('Model Accuracy Evaluation')\n",
    "plt.show()\n",
    "print(\"Gradient Booster seems to be the best model!\")\n",
    "print(\"However, Gradient Booster score does not deviate that much from Random Forest score,\",0.9227272727272727-0.9113636363636364,\",\")\n",
    "print(\"which may mean the their difference is not statistically signiificant.\")"
   ]
  },
  {
   "cell_type": "code",
   "execution_count": 161,
   "metadata": {},
   "outputs": [
    {
     "data": {
      "image/png": "[encoded data removed]",
      "text/plain": [
       "<Figure size 432x288 with 1 Axes>"
      ]
     },
     "metadata": {
      "needs_background": "light"
     },
     "output_type": "display_data"
    },
    {
     "name": "stdout",
     "output_type": "stream",
     "text": [
      "Out of all models, the Decision Tree model misclassified languages the most.\n"
     ]
    }
   ],
   "source": [
    "import matplotlib.pyplot as plt\n",
    "\n",
    "# construct figure\n",
    "fig = plt.figure()\n",
    "ax = fig.add_axes([0,0,1,1])\n",
    "\n",
    "# model names and corresponding scores\n",
    "model_names = ['Decision Tree', 'Random Forest', 'Gradient Booster']\n",
    "misclf_totals = [469, 390, 340]\n",
    "\n",
    "# construct bar plot\n",
    "ax.bar(model_names,misclf_totals, color = \"red\")\n",
    "plt.xlabel('Models')\n",
    "plt.ylabel('misclassifications')\n",
    "plt.title('Model Misclassification Evaluation')\n",
    "plt.show()\n",
    "\n",
    "print(\"Out of all models, the Decision Tree model misclassified languages the most.\")"
   ]
  },
  {
   "cell_type": "markdown",
   "metadata": {},
   "source": [
    "# Creating lists of alphabets for languages"
   ]
  },
  {
   "cell_type": "code",
   "execution_count": null,
   "metadata": {},
   "outputs": [],
   "source": [
    "# Create these arrays into dictonaries\n",
    "english_alpha = [a, b, c, d, e, f, g, h, i, j, k, l, m, n, o, p, q, r, s, t, u, v, w, x, y, z]\n",
    "estonian_alpha = [A, B, D, E, F, G, H, I, J, K, L, M, N, O, P, R, S, Š, Z, Ž, T, U, V, Õ, Ä, Ö, Ü]\n",
    "swedish_alpha = [a, b, c, d, e, f, g, h, i, j, k, l, m, n, o, p, q, r, s, t, u, v, w, x, y, z, å, ä, ö]\n",
    "thai_alpha = [ก, ข, ค, ฅ, ฆ, ง, จ, ฉ, ช, ฌ, ญ, ฎ, ฏ, ฐ, ฑ, ฒ, ณ, ด, ต, ถ, ท, ธ, น, บ, บ, ผ, ฝ, พ, ฟ, ภ, \n",
    "               ม, ย, ร, ล, ว, ศ, ษ, ส, ห, ฬ, อ, ฮ] \n",
    "tamil_alpha = [அ, ஆ, இ, ஈ, உ, ஊ, எ, ஏ, ஐ, ஒ, ஓ, ஔ, க, ங, ச, ஞ, ட, ண, த, ந, ன, ப, ம, ய, ர, ற, ல, ள, ழ, வ]\n",
    "dutch_alpha = english_alpha\n",
    "japanese_alpha = [ぁ, あ, ぃ, い, ぅ, う, ぇ, え, ぉ, お, か, が, き, ぎ, く, ぐ, け, げ, こ, ご, さ, ざ, し, じ, す, ず,\n",
    "                  せ, ぜ, そ, ぞ, た, だ, ち, ぢ, っ, つ, づ, て, で, と, ど, な, に, ぬ, ね, の, は, ば, ぱ, ひ, び, ぴ,\n",
    "                  ふ, ぶ, ぷ, へ, べ, れ, る, り, ら, よ, ょ, ゆ, ゅ, や, ゃ, も, め, む, み, ま, ぽ, ぼ, ほ, ぺ, ろ, ゎ,\n",
    "                  わ, ゐ, ゑ, を, ん, ゔ, ゕ, ゖ,  ゚, ゛, ゜, ゝ, ゞ, ゟ, ゠, ァ, ア, サ, ゴ, コ, ゲ, ケ, グ, ク, ギ, キ,\n",
    "                  ガ, カ, オ, ォ, エ, ェ, ウ, ゥ, イ, ィ, ザ, シ, ジ, ス, ズ, セ, ゼ, ソ, ゾ, タ ,ダ ,チ ,ヂ, ッ, ツ, ヅ,\n",
    "                  テ, デ, ト, ホ, ペ, ベ, ヘ, プ, ブ, フ, ピ, ビ, ヒ, パ, バ, ハ, ノ, ネ, ヌ, ニ, ナ, ド, ボ, ポ, マ, ミ, \n",
    "                  ム, メ, モ, ャ, ヤ, ュ, ユ, ョ, ヨ, ラ, リ, ル, レ, ロ, ヮ, ㍿, ㍐, ヿ, ヾ, ヽ, ー, ・, ヺ, ヹ, ヸ, ヷ,\n",
    "                  ヶ, ヵ, ヴ, ン, ヲ, ヱ, ヰ, ワ]\n",
    "turkish_alpha = [a, b, c, d, e, f, g, h, i, j, k, l, m, n, o, p, r, s, t, u, v, y, z, ç, ğ, ı, İ, î, ö, ş, ü]\n",
    "latin_alpha = english_alpha\n",
    "urdu_alpha = [ش,س,ژ,ز,ڑ,ر,ذ,ڈ,د,خ,ح,چ,\n",
    "              ج,ث,ٹ,ت,پ,ب,آ,ا,ے,ی,ھ,ہ,و,ں,ن,م,ل,گ,ک,ق,ف,غ,ع,ظ,ط,ض,ص]\n",
    "indonesian_alpha = english_alpha\n",
    "portuguese_alpha = [ç, á, é, í, ó, ú, â, ê, ô, ã, õ, à, è, ì, ò, ù, a, b, c, d, e, f, g, h, i, j, k, l, m, n, o, p, q, r, s, t, u, v, w, x, y, z]\n",
    "french_alpha = [ç, é, â, ê, î, ô, û, à, è, ì, ò, ù, ë, ï, ü, a, b, c, d, e, f, g, h, i, j, k, l, m, n, o, p, q, r, s, t, u, v, w, x, y, z]\n",
    "chinese_alpha = [胡, 赛, 尼, 本, 人, 和, 小, 说, 的, 主, 人, 公, 阿, 米, 尔, 一, 样, 都, 是, 出, 生, 在, 阿, 富, 汗, 首, 都, \n",
    "                 喀, 布, 尔, 少, 年, 时, 代, 便, 离, 开, 了, 这, 个, 国, 家, 。, 胡, 赛, 尼, 直, 到, 年, 小, 说, 出, 版, 之, \n",
    "                 后, 才, 首, 次, 回, 到, 已, 经, 离, 开, 年, 的, 祖, 国, 。, 他, 在, 苏, 联, 入, 侵, 时, 离, 开, 了, 阿, 富, \n",
    "                 汗, 而, 他, 的, 很, 多, 童, 年, 好, 友, 在, 阿, 富, 汗, 生, 活, 在, 他, 们, 出, 发, 之, 前, 罗, 伯, 特, 伊,\n",
    "                 达, 尔, 文, 卷, 查, 尔, 斯, 赖, 尔, 所, 著, 地, 质, 学, 原, 理, 在, 南, 美, 他, 得, 到, 第, 卷, 该, 书, 将, \n",
    "                 地, 形, 地, 貌, 解, 释, 为, 漫, 长, 历, 史, 时, 间, 渐, 进, 演, 变, 的, 的, 结, 果, 当, 他, 旅, 程, 的, 第, \n",
    "                 站, 抵, 达, 圣, 地, 亚, 哥, 佛, 得, 角, 的, 时, 候, 达, 尔, 文]\n",
    "korean_alpha = [ᄁ,ᄂ,ᄃ,ᄄ,ᄅᄆᄇ,ᄈ,ᄉ,ᄊ,ᄋ,ᄌᄍ,ᄎ,ᄏ,ᄐ,ᄑᄒ,아,악,안,알,암,압,앙,앞애,액,앵야,얀,약,양,얘,어,억,\n",
    "                언,얼,엄,업,엉,에,여,역,연,열,염,엽,영,예,ᄀ,여,역,연,열,염,엽,영,예,오,옥,온,올,옴,옹,와,완,왈,왕,왜,외,왼,\n",
    "                요,욕,용,우,욱,운,울,움,웅,워,원,월,위,유,육,윤,율,융,윷,으,은,을,음읍,응,의,이,익,인,일,임,입,잉,잎]\n",
    "hindi_alpha = [ऄ, अ, आ, इ, ई, उ, ऊ, ऋ, ऌ, ऍ, ऎ, ए, ऐ, ऑ, ऒ, ओ, औ, क, ख, ग, घ, ङ, च, छ, ज, झ, प, ऩ, न, ध, द, \n",
    "               थ, त, ण, ढ, ड, ठ, ट, ञ, फ, ब, भ, म, य, र, ऱ, ल, ळ, ऴ, व, श, ष, ४, ३, २, १, ०, ॥, ।, ॡ, ॠ, ॐ, ऽ, \n",
    "               ह, स, ५, ६, ७, ॲ, ॳ, ॴ, ॵ, ॶ, ॷ, ॹ, ॺ, ॻ, ॼ, ॾ, ॿ, ೱऀँं, ः, ऺ, ऻ, ा, ि, ी, ॎ, ॏॕैेॣॢ, ॗ]\n",
    "spanish_alpha = [á, é, í, ó, ú, ñ, ü, a, b, c, d, e, f, g, h, i, j, k, l, m, n, o, p, q, r, s, t, u, v, w, x, y, z]\n",
    "pushto_alpha = [ﺏ ,پ ,ﺕ ,ټ ,ﺙ ,ﺝ ,چ ,ﺡ ,ﺥ ,څ ,ځ ,ﺩ ,ډ ,ﺫ ,ﺭ ,ړ ,ﺯ ,ژ ,ږ ,ﺱ ,ﺵ ,ښ ,ﺹ ,ﺽ ,ﻁ ,ﻅ ,ﻉ ,ﻍ ,ﻑ ,ﻕ ,ک ,ګ ,ﻝ ,ﻡ ,ﻥ ,ڼ, ,ﻭ ,ه ,ۀ ,ي ,ې ,ی ,ۍ ,ئ]\n",
    "persian_alpha = [,ش,س,ژ,ز,ر,ذ,د,خ,ح,چ,ج,ث,ت,پ,ب,آ,ا,ص,ض,ط,ظ,ع,غ,ف,ق,ک,گ,ل,م,ن,و,ه,ی]\n",
    "romanian_alpha = [ă, â, î, ș, ş, ț, ţ, a, b, c, d, e, f, g, h, i, j, k, l, m, n, o, p, q, r, s, t, u, v, w, x, y, z]\n",
    "russian_alpha = [б, в, г, д, ж, з, к, л, м, н, п, р, с, т, ф, х, ц, ч, ш, щ, а, е, ё, и, о, у, ы, э, ю, я, й]\n",
    "arabic_alpha = [ش,س,ز,ر,ذ,د,خ,ح,ج,ث,ت,ب,ا,ء,ي,و,ه,ن,م,ل,ك,ق,ف,غ,ع,ظ,ط,ض,ص]\n"
   ]
  },
  {
   "cell_type": "code",
   "execution_count": null,
   "metadata": {},
   "outputs": [],
   "source": [
    "#characters for first model\n",
    "chars = ['e', 't', 'ä', 'ö', 'a', 'n', 'ก', 'ข', 'ค', 'ฅ', 'ฆ', 'ง', 'அ', 'ஆ', 'இ', 'ஈ', 'உ', 'ஊ', \n",
    "         'o', 'r', 'ー', '日', 'あ', 'ぁ', 'ぇ', 'ç', 'ğ', 'ı', 'İ', 'î', 'ö', 'ş', 'i', 'u', 'چ', 'ح', 'خ', 'ش',\n",
    "         'â', 'ù', 'è', 's', 'î', 'ë', '胡', '童', '。', 'ᄁ', '알', '에', 'ᄃ', 'ऺ', 'त', 'ऻ', 'क', 'á', 'é', 'í', \n",
    "         'ó', 'ږ','ک', 'ﻑ', 'ی', 'م', 'ث', 'ţ', 'ă', 'ș', 'ş', 'б', 'в', 'г', 'д', 'ص', 'ف', 'ج', 'ر']\n",
    "\n",
    "new_chars = [['e', 't', 'a', 'i', 'o', 'n', 's', 'h', 'r'], ['a', 'e', 'i', 'ä', 'ö', 'õ', 'š', 'ü', 'ž'], \n",
    "             ['å', 'ä', 'ö', 'a', 'e', 't', 'n', 'r', 's', 'i'], ['ก', 'ข', 'ค', 'ฅ', 'ฆ', 'ง', 'จ', 'ฉ', 'ช', 'ฌ'],\n",
    "             ['அ', 'ஆ', 'இ', 'ஈ', 'உ', 'ஊ', 'எ', 'ஏ', 'ஐ', 'ஒ'], ['a', 'e', 'i', 'o', 'h', 'n', 'r', 't', 's'], \n",
    "             ['㍿', '㍐', 'ヿ', 'ヾ', 'ヽ', 'ー', '・', 'ヺ', 'ヹ', 'ヸ'], ['ç', 'ğ', 'ı', 'İ', 'î', 'ö', 'ş', 'ü', 'a', 'e'],\n",
    "             ['a', 'e', 'i', 'n', 'r', 's', 't', 'u', 'm', 'd'], ['چ', 'ح', 'خ', 'ش', 'ن', 'ٹ', 'ن', 'ث', 'گ', 'ج'],\n",
    "             ['a', 'A', 'i', 'n', 'r', 'm', 's', 't', 'u', 'g'], ['â', 'ê', 'ô', 'ã', 'õ', 'à', 'è', 'ì', 'ò', 'ù'],\n",
    "             ['ô', 'û', 'à', 'è', 'ì', 'ò', 'ù', 'ë', 'ï', 'ü'], ['主', '人', '公', '阿', '米', '尔', '一', '样', '都', '是'],\n",
    "             ['응','의','이','익','인','일','임','입','잉','잎'], ['ः', 'ऺ', 'ऻ', 'ा', 'ि', 'ी', 'ॎ', 'ई', 'उ', 'ऊ'], \n",
    "             ['á', 'é', 'í', 'ó', 'ú', 'ñ', 'ü', 't', 'e', 'i'], ['ت', 'ا', 'ې', 'ښ', 'ن', 'ر', 'ع', 'ط', 'ړ', 'س'],\n",
    "             ['ق', ' غ', 'ج', 'ت', ' ن ', 'ی', 'ل ', 'ظ', 'ص', 'ز'], ['ă', 'â', 'î', 'ș', 'ş', 'ț', 'ţ'], \n",
    "             ['б', 'в', 'г', 'д', 'ж', 'з', 'к', 'л', 'м', 'н'], ['م', 'ص', 'ظ', 'و', 'ر', 'م', 'ي', 'ج', 'ز', 'ق']]"
   ]
  }
 ],
 "metadata": {
  "kernelspec": {
   "display_name": "Python 3",
   "language": "python",
   "name": "python3"
  },
  "language_info": {
   "codemirror_mode": {
    "name": "ipython",
    "version": 3
   },
   "file_extension": ".py",
   "mimetype": "text/x-python",
   "name": "python",
   "nbconvert_exporter": "python",
   "pygments_lexer": "ipython3",
   "version": "3.8.5"
  }
 },
 "nbformat": 4,
 "nbformat_minor": 5
}
